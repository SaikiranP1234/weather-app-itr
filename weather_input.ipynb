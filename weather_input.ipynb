{
  "nbformat": 4,
  "nbformat_minor": 0,
  "metadata": {
    "colab": {
      "provenance": [],
      "authorship_tag": "ABX9TyO6+SpxqU9osd3hDA0KsJv7",
      "include_colab_link": true
    },
    "kernelspec": {
      "name": "python3",
      "display_name": "Python 3"
    },
    "language_info": {
      "name": "python"
    }
  },
  "cells": [
    {
      "cell_type": "markdown",
      "metadata": {
        "id": "view-in-github",
        "colab_type": "text"
      },
      "source": [
        "<a href=\"https://colab.research.google.com/github/SaikiranP1234/weather-app-itr/blob/main/weather_input.ipynb\" target=\"_parent\"><img src=\"https://colab.research.google.com/assets/colab-badge.svg\" alt=\"Open In Colab\"/></a>"
      ]
    },
    {
      "cell_type": "code",
      "execution_count": null,
      "metadata": {
        "id": "R4VrqciXyerU"
      },
      "outputs": [],
      "source": [
        "import pandas as pd\n",
        "\n",
        "# to calculate tw\n",
        "def calculate_tw(t, w, h):\n",
        "    tw = 0.5 * t**2 + 0.1 * w - 0.2 * h - 15\n",
        "    return tw\n",
        "\n",
        "# to classify weather based on tw\n",
        "def classify_weather(tw):\n",
        "    if tw > 350:\n",
        "        return \"Sunny\"\n",
        "    elif 250 < tw <= 350:\n",
        "        return \"Cloudy\"\n",
        "    elif 150 < tw <= 250:\n",
        "        return \"Rainy\"\n",
        "    else:\n",
        "        return \"Stormy\"\n",
        "\n",
        "# to calculate weather based on given t, w, h\n",
        "def calculate_weather(t, w, h):\n",
        "    try:\n",
        "        # Calculate tw and classify weather\n",
        "        tw = calculate_tw(t, w, h)\n",
        "        condition = classify_weather(tw)\n",
        "\n",
        "        # Display results\n",
        "        print(f\"Temperature: {t}°C, Wind Speed: {w} km/h, Humidity: {h}%\")\n",
        "        print(f\"Calculated tw: {tw}\")\n",
        "        print(f\"Weather Condition: {condition}\")\n",
        "    except ValueError as e:\n",
        "        print(f\"Error processing the values: {e}\")\n",
        "\n",
        "# Main function\n",
        "def main():\n",
        "    try:\n",
        "        t = float(input(\"Enter the temperature (°C): \"))\n",
        "        w = float(input(\"Enter the wind speed (km/h): \"))\n",
        "        h = float(input(\"Enter the humidity (%): \"))\n",
        "        calculate_weather(t, w, h)\n",
        "    except ValueError:\n",
        "        print(\"Please enter valid numeric inputs for temperature, wind speed, and humidity.\")\n",
        "\n",
        "# runs only once\n",
        "if __name__ == \"__main__\":\n",
        "    main()\n"
      ]
    }
  ]
}